{
 "cells": [
  {
   "cell_type": "code",
   "execution_count": 1,
   "id": "e71697ca",
   "metadata": {},
   "outputs": [
    {
     "name": "stdout",
     "output_type": "stream",
     "text": [
      "Collecting pickle-mixin\n",
      "  Downloading pickle-mixin-1.0.2.tar.gz (5.1 kB)\n",
      "  Installing build dependencies: started\n",
      "  Installing build dependencies: finished with status 'done'\n",
      "  Getting requirements to build wheel: started\n",
      "  Getting requirements to build wheel: finished with status 'done'\n",
      "  Preparing metadata (pyproject.toml): started\n",
      "  Preparing metadata (pyproject.toml): finished with status 'done'\n",
      "Building wheels for collected packages: pickle-mixin\n",
      "  Building wheel for pickle-mixin (pyproject.toml): started\n",
      "  Building wheel for pickle-mixin (pyproject.toml): finished with status 'done'\n",
      "  Created wheel for pickle-mixin: filename=pickle_mixin-1.0.2-py3-none-any.whl size=6016 sha256=565b8170d4c7196a0139549a32101ed83303af171f3d37e4fe609fa8fe5124c8\n",
      "  Stored in directory: c:\\users\\bhavn\\appdata\\local\\pip\\cache\\wheels\\3e\\c6\\e9\\d1b0a34e1efc6c3ec9c086623972c6de6317faddb2af0a619c\n",
      "Successfully built pickle-mixin\n",
      "Installing collected packages: pickle-mixin\n",
      "Successfully installed pickle-mixin-1.0.2\n",
      "Note: you may need to restart the kernel to use updated packages.\n"
     ]
    },
    {
     "name": "stderr",
     "output_type": "stream",
     "text": [
      "\n",
      "[notice] A new release of pip is available: 23.1.2 -> 23.2.1\n",
      "[notice] To update, run: python.exe -m pip install --upgrade pip\n"
     ]
    }
   ],
   "source": [
    "pip install pickle-mixin"
   ]
  },
  {
   "cell_type": "code",
   "execution_count": 2,
   "id": "b22dfeb8",
   "metadata": {},
   "outputs": [],
   "source": [
    "import numpy as np\n",
    "import pickle"
   ]
  },
  {
   "cell_type": "code",
   "execution_count": 3,
   "id": "68df7e5d",
   "metadata": {},
   "outputs": [],
   "source": [
    "# loading the saved model\n",
    "loaded_model = pickle.load(open('house_price_predictor.sav', 'rb'))"
   ]
  },
  {
   "cell_type": "code",
   "execution_count": 16,
   "id": "3b892119",
   "metadata": {},
   "outputs": [],
   "source": [
    "# input_data = (0.15682292, -0.4898311 ,  0.98336806, -0.27288841,  0.47919371,\n",
    "#         10.28867984,  0.87020968, -0.68730678,  1.63579367,  1.50571521,\n",
    "#         0.81196637,  0.44624347,  10.81480158)\n",
    "def price_prediction(input_data):\n",
    "    # changing the input_data to a numpy array\n",
    "    input_data_array = np.asarray(input_data)\n",
    "\n",
    "    # reshaping the array as we are predicting only for one instance\n",
    "    input_data_reshaped = input_data_array.reshape(1, -1)\n",
    "\n",
    "    prediction = loaded_model.predict(input_data_reshaped)\n",
    "\n",
    "    return 'the predicted price is :',prediction.tolist()\n",
    "\n",
    "# features = np.array([[ 0.15682292, -0.4898311 ,  0.98336806, -0.27288841,  0.47919371,\n",
    "#         10.28867984,  0.87020968, -0.68730678,  1.63579367,  1.50571521,\n",
    "#         0.81196637,  0.44624347,  10.81480158]])\n",
    "# prediction = loaded_model.predict(features)\n",
    "# print(prediction)"
   ]
  },
  {
   "cell_type": "code",
   "execution_count": 18,
   "id": "d5249400",
   "metadata": {},
   "outputs": [],
   "source": [
    "result = price_prediction((0.15682292, -0.4898311 ,  0.98336806, -0.27288841,  0.47919371,\n",
    "        10.28867984,  0.87020968, -0.68730678,  1.63579367,  1.50571521,\n",
    "        0.81196637,  0.44624347,  10.81480158))"
   ]
  },
  {
   "cell_type": "code",
   "execution_count": 19,
   "id": "2c455e0a",
   "metadata": {},
   "outputs": [
    {
     "name": "stdout",
     "output_type": "stream",
     "text": [
      "('the predicted price is :', [23.092000000000002])\n"
     ]
    }
   ],
   "source": [
    "print(result)"
   ]
  },
  {
   "cell_type": "code",
   "execution_count": null,
   "id": "2dfe3518",
   "metadata": {},
   "outputs": [],
   "source": []
  }
 ],
 "metadata": {
  "kernelspec": {
   "display_name": "Python 3 (ipykernel)",
   "language": "python",
   "name": "python3"
  },
  "language_info": {
   "codemirror_mode": {
    "name": "ipython",
    "version": 3
   },
   "file_extension": ".py",
   "mimetype": "text/x-python",
   "name": "python",
   "nbconvert_exporter": "python",
   "pygments_lexer": "ipython3",
   "version": "3.10.6"
  }
 },
 "nbformat": 4,
 "nbformat_minor": 5
}
