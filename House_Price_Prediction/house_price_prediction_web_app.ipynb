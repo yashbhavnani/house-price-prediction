{
 "cells": [
  {
   "cell_type": "code",
   "execution_count": 1,
   "id": "0f48a2fe",
   "metadata": {},
   "outputs": [],
   "source": [
    "import numpy as np\n",
    "import pickle\n",
    "import streamlit as st"
   ]
  },
  {
   "cell_type": "code",
   "execution_count": 2,
   "id": "a2790fa2",
   "metadata": {},
   "outputs": [],
   "source": [
    "# loading the saved model\n",
    "loaded_model = pickle.load(open('house_price_predictor.sav', 'rb'))"
   ]
  },
  {
   "cell_type": "code",
   "execution_count": 4,
   "id": "a96232fe",
   "metadata": {},
   "outputs": [],
   "source": [
    "def price_prediction(input_data):\n",
    "    # changing the input_data to a numpy array\n",
    "    input_data_array = np.asarray(input_data)\n",
    "\n",
    "    # reshaping the array as we are predicting only for one instance\n",
    "    input_data_reshaped = input_data_array.reshape(1, -1)\n",
    "\n",
    "    prediction = loaded_model.predict(input_data_reshaped)\n",
    "\n",
    "    return 'The predicted price of the house is: ',prediction.tolist()"
   ]
  },
  {
   "cell_type": "code",
   "execution_count": 7,
   "id": "c4e2aff3",
   "metadata": {},
   "outputs": [],
   "source": [
    "def main():\n",
    "    \n",
    "    # giving a title\n",
    "    st.title('House Price Prediction Web App')\n",
    "    \n",
    "    # getting the input data from the user\n",
    "    CRIM = st.text_input('Per capita Crime Rate by Town: ')\n",
    "    ZN = st.text_input('Proportion of residential land zoned for lots over 25,000 sq.ft: ')\n",
    "    INDUS = st.text_input('Proportion of non-retail business acres per town: ')\n",
    "    CHAS = st.text_input('Charles River dummy variable (= 1 if tract bounds river; 0 otherwise ): ')\n",
    "    NOX = st.text_input('Nitric Oxides concentration (parts per 10 million): ')\n",
    "    RM = st.text_input('Average number of rooms per dwelling: ')\n",
    "    AGE = st.text_input('Proportion of owner-occupied units built prior to 1940: ')\n",
    "    DIS = st.text_input('Weighted distances to five Boston employment centres: ')\n",
    "    RAD = st.text_input('Index of accessibility to radial highways: ')\n",
    "    TAX = st.text_input('Full value property tax rate per 10,000$: ')\n",
    "    PTRATIO = st.text_input('Pupil-Teacher ratio by town: ')\n",
    "    B = st.text_input('1000(Bk-0.63)^2 where Bk is the proportion of blacks by town: ')\n",
    "    LSTAT = st.text_input('% lower status of the population: ')\n",
    "    \n",
    "    # code for prediction\n",
    "    result = ''\n",
    "    \n",
    "    # creating a button for prediction\n",
    "    if st.button('Predict'):\n",
    "        result = price_prediction([CRIM, ZN, INDUS, CHAS, NOX, RM, AGE, DIS, RAD, TAX, PTRATIO, B, LSTAT])\n",
    "        \n",
    "    st.success(result)\n",
    "    "
   ]
  },
  {
   "cell_type": "code",
   "execution_count": 8,
   "id": "774f4603",
   "metadata": {},
   "outputs": [],
   "source": [
    "if __name__ == '__main__':\n",
    "    main()"
   ]
  },
  {
   "cell_type": "code",
   "execution_count": null,
   "id": "2682346d",
   "metadata": {},
   "outputs": [],
   "source": []
  }
 ],
 "metadata": {
  "kernelspec": {
   "display_name": "Python 3 (ipykernel)",
   "language": "python",
   "name": "python3"
  },
  "language_info": {
   "codemirror_mode": {
    "name": "ipython",
    "version": 3
   },
   "file_extension": ".py",
   "mimetype": "text/x-python",
   "name": "python",
   "nbconvert_exporter": "python",
   "pygments_lexer": "ipython3",
   "version": "3.10.6"
  }
 },
 "nbformat": 4,
 "nbformat_minor": 5
}
