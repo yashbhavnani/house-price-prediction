{
 "cells": [
  {
   "cell_type": "code",
   "execution_count": 4,
   "id": "b203f5b7",
   "metadata": {},
   "outputs": [
    {
     "data": {
      "text/plain": [
       "array([16.363])"
      ]
     },
     "execution_count": 4,
     "metadata": {},
     "output_type": "execute_result"
    }
   ],
   "source": [
    "from joblib import dump, load\n",
    "import numpy as np\n",
    "regressor = load('House_Price_Predictor.joblib')\n",
    "features = np.array([[ 0.15682292, -0.4898311 ,  0.98336806, -0.27288841,  0.47919371,\n",
    "        0.28867984,  0.87020968, -0.68730678,  1.63579367,  1.50571521,\n",
    "        0.81196637,  0.44624347,  0.81480158]])\n",
    "regressor.predict(features)"
   ]
  },
  {
   "cell_type": "code",
   "execution_count": null,
   "id": "8288b56c",
   "metadata": {},
   "outputs": [],
   "source": []
  }
 ],
 "metadata": {
  "kernelspec": {
   "display_name": "Python 3 (ipykernel)",
   "language": "python",
   "name": "python3"
  },
  "language_info": {
   "codemirror_mode": {
    "name": "ipython",
    "version": 3
   },
   "file_extension": ".py",
   "mimetype": "text/x-python",
   "name": "python",
   "nbconvert_exporter": "python",
   "pygments_lexer": "ipython3",
   "version": "3.10.6"
  }
 },
 "nbformat": 4,
 "nbformat_minor": 5
}
